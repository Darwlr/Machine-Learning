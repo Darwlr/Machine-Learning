{
 "cells": [
  {
   "cell_type": "markdown",
   "metadata": {},
   "source": [
    "##  数据归一化处理"
   ]
  },
  {
   "cell_type": "code",
   "execution_count": 2,
   "metadata": {},
   "outputs": [],
   "source": [
    "import numpy as np\n",
    "import matplotlib.pyplot as plt"
   ]
  },
  {
   "cell_type": "markdown",
   "metadata": {},
   "source": [
    "### 最值归一化 Normalization"
   ]
  },
  {
   "cell_type": "code",
   "execution_count": 3,
   "metadata": {},
   "outputs": [],
   "source": [
    "x = np.random.randint(0 ,100, size = 100)"
   ]
  },
  {
   "cell_type": "code",
   "execution_count": 4,
   "metadata": {},
   "outputs": [
    {
     "data": {
      "text/plain": [
       "array([28, 80, 23, 89, 45, 72, 25, 13,  4,  6, 86, 30,  1, 33, 31, 55, 10,\n",
       "       58, 29, 35, 50, 64, 96, 97, 36, 25, 57, 31, 23, 42, 59, 91, 58,  5,\n",
       "       69, 64, 28, 56, 44, 88, 24, 46, 30, 16, 49, 13,  8, 46, 26,  8, 49,\n",
       "       82, 75, 14, 40, 81,  0, 65, 58, 46, 16, 32, 14, 68, 55, 66,  2, 20,\n",
       "       53, 84,  6, 54, 90, 77, 59, 14, 82, 72, 16, 40, 31, 62, 12, 24, 71,\n",
       "       74, 94, 81, 44, 64, 38, 73, 68, 67, 50, 48, 56, 24, 47, 29])"
      ]
     },
     "execution_count": 4,
     "metadata": {},
     "output_type": "execute_result"
    }
   ],
   "source": [
    "x"
   ]
  },
  {
   "cell_type": "code",
   "execution_count": 5,
   "metadata": {},
   "outputs": [
    {
     "data": {
      "text/plain": [
       "array([0.28865979, 0.82474227, 0.2371134 , 0.91752577, 0.46391753,\n",
       "       0.74226804, 0.25773196, 0.13402062, 0.04123711, 0.06185567,\n",
       "       0.88659794, 0.30927835, 0.01030928, 0.34020619, 0.31958763,\n",
       "       0.56701031, 0.10309278, 0.59793814, 0.29896907, 0.36082474,\n",
       "       0.51546392, 0.65979381, 0.98969072, 1.        , 0.37113402,\n",
       "       0.25773196, 0.58762887, 0.31958763, 0.2371134 , 0.43298969,\n",
       "       0.60824742, 0.93814433, 0.59793814, 0.05154639, 0.71134021,\n",
       "       0.65979381, 0.28865979, 0.57731959, 0.45360825, 0.90721649,\n",
       "       0.24742268, 0.4742268 , 0.30927835, 0.16494845, 0.50515464,\n",
       "       0.13402062, 0.08247423, 0.4742268 , 0.26804124, 0.08247423,\n",
       "       0.50515464, 0.84536082, 0.77319588, 0.1443299 , 0.41237113,\n",
       "       0.83505155, 0.        , 0.67010309, 0.59793814, 0.4742268 ,\n",
       "       0.16494845, 0.32989691, 0.1443299 , 0.70103093, 0.56701031,\n",
       "       0.68041237, 0.02061856, 0.20618557, 0.54639175, 0.86597938,\n",
       "       0.06185567, 0.55670103, 0.92783505, 0.79381443, 0.60824742,\n",
       "       0.1443299 , 0.84536082, 0.74226804, 0.16494845, 0.41237113,\n",
       "       0.31958763, 0.63917526, 0.12371134, 0.24742268, 0.73195876,\n",
       "       0.7628866 , 0.96907216, 0.83505155, 0.45360825, 0.65979381,\n",
       "       0.39175258, 0.75257732, 0.70103093, 0.69072165, 0.51546392,\n",
       "       0.49484536, 0.57731959, 0.24742268, 0.48453608, 0.29896907])"
      ]
     },
     "execution_count": 5,
     "metadata": {},
     "output_type": "execute_result"
    }
   ],
   "source": [
    "(x - np.min(x)) / (np.max(x) - np.min(x))"
   ]
  },
  {
   "cell_type": "code",
   "execution_count": 6,
   "metadata": {},
   "outputs": [
    {
     "data": {
      "text/plain": [
       "array([[34, 34],\n",
       "       [93, 70],\n",
       "       [45, 65],\n",
       "       [86, 68],\n",
       "       [85, 30],\n",
       "       [41, 15],\n",
       "       [16, 24],\n",
       "       [17, 77],\n",
       "       [26, 48],\n",
       "       [ 0, 36]])"
      ]
     },
     "execution_count": 6,
     "metadata": {},
     "output_type": "execute_result"
    }
   ],
   "source": [
    "X = np.random.randint(0, 100, (50, 2))\n",
    "X[:10, :]"
   ]
  },
  {
   "cell_type": "code",
   "execution_count": 7,
   "metadata": {},
   "outputs": [],
   "source": [
    "X = np.array(X, dtype=float) # 将X中元素转换为浮点数"
   ]
  },
  {
   "cell_type": "code",
   "execution_count": 8,
   "metadata": {},
   "outputs": [
    {
     "data": {
      "text/plain": [
       "array([[34., 34.],\n",
       "       [93., 70.],\n",
       "       [45., 65.],\n",
       "       [86., 68.],\n",
       "       [85., 30.],\n",
       "       [41., 15.],\n",
       "       [16., 24.],\n",
       "       [17., 77.],\n",
       "       [26., 48.],\n",
       "       [ 0., 36.]])"
      ]
     },
     "execution_count": 8,
     "metadata": {},
     "output_type": "execute_result"
    }
   ],
   "source": [
    "X[:10, :]"
   ]
  },
  {
   "cell_type": "markdown",
   "metadata": {},
   "source": [
    "### 对于二维数组，需要对每一个特征做数值归一化\n",
    "\n",
    "每一列代表一个特征，所以需要对所有列进行归一化处理"
   ]
  },
  {
   "cell_type": "code",
   "execution_count": 37,
   "metadata": {},
   "outputs": [],
   "source": [
    "for i in range(0, X.shape[1]):\n",
    "    X[:, i] = ( X[:, i] - np.min(X[:, i]) ) / ( np.max(X[:, i]) - np.min(X[:, i]) )"
   ]
  },
  {
   "cell_type": "code",
   "execution_count": 20,
   "metadata": {},
   "outputs": [
    {
     "data": {
      "text/plain": [
       "array([[0.35051546, 0.34343434],\n",
       "       [0.95876289, 0.70707071],\n",
       "       [0.46391753, 0.65656566],\n",
       "       [0.88659794, 0.68686869],\n",
       "       [0.87628866, 0.3030303 ],\n",
       "       [0.42268041, 0.15151515],\n",
       "       [0.16494845, 0.24242424],\n",
       "       [0.17525773, 0.77777778],\n",
       "       [0.26804124, 0.48484848],\n",
       "       [0.        , 0.36363636]])"
      ]
     },
     "execution_count": 20,
     "metadata": {},
     "output_type": "execute_result"
    }
   ],
   "source": [
    "X[:10, :]"
   ]
  },
  {
   "cell_type": "code",
   "execution_count": 22,
   "metadata": {},
   "outputs": [
    {
     "data": {
      "text/plain": [
       "<matplotlib.collections.PathCollection at 0x1d73e49f0f0>"
      ]
     },
     "execution_count": 22,
     "metadata": {},
     "output_type": "execute_result"
    },
    {
     "data": {
      "image/png": "[encoded data removed]",
      "text/plain": [
       "<Figure size 432x288 with 1 Axes>"
      ]
     },
     "metadata": {
      "needs_background": "light"
     },
     "output_type": "display_data"
    }
   ],
   "source": [
    "plt.scatter(X[:, 0], X[:, 1])"
   ]
  },
  {
   "cell_type": "code",
   "execution_count": 23,
   "metadata": {},
   "outputs": [
    {
     "data": {
      "text/plain": [
       "0.5053608247422681"
      ]
     },
     "execution_count": 23,
     "metadata": {},
     "output_type": "execute_result"
    }
   ],
   "source": [
    "np.mean(X[:, 0]) # 第0列的均值"
   ]
  },
  {
   "cell_type": "code",
   "execution_count": 24,
   "metadata": {},
   "outputs": [
    {
     "data": {
      "text/plain": [
       "0.3091992338668197"
      ]
     },
     "execution_count": 24,
     "metadata": {},
     "output_type": "execute_result"
    }
   ],
   "source": [
    "np.std(X[:, 0]) # 第0列的方差"
   ]
  },
  {
   "cell_type": "code",
   "execution_count": 25,
   "metadata": {},
   "outputs": [
    {
     "name": "stdout",
     "output_type": "stream",
     "text": [
      "0.48848484848484847\n",
      "0.2943037070311003\n"
     ]
    }
   ],
   "source": [
    "print(np.mean(X[:, 1]))\n",
    "print(np.std(X[:, 1]))"
   ]
  },
  {
   "cell_type": "markdown",
   "metadata": {},
   "source": [
    "### 均值方差归一化"
   ]
  },
  {
   "cell_type": "code",
   "execution_count": 26,
   "metadata": {},
   "outputs": [],
   "source": [
    "X2 = np.random.randint(0, 100, (50, 2))"
   ]
  },
  {
   "cell_type": "code",
   "execution_count": 27,
   "metadata": {},
   "outputs": [],
   "source": [
    "X2 = np.array(X2, dtype=float)"
   ]
  },
  {
   "cell_type": "code",
   "execution_count": 29,
   "metadata": {},
   "outputs": [],
   "source": [
    "for i in (0, X2.shape[1]-1):\n",
    "    X2[:, i] = (X2[:, i] - np.mean(X2[:, i])) / np.std(X2[:, i])"
   ]
  },
  {
   "cell_type": "code",
   "execution_count": 36,
   "metadata": {},
   "outputs": [
    {
     "data": {
      "text/plain": [
       "<matplotlib.collections.PathCollection at 0x1d73e522a90>"
      ]
     },
     "execution_count": 36,
     "metadata": {},
     "output_type": "execute_result"
    },
    {
     "data": {
      "image/png": "[encoded data removed]",
      "text/plain": [
       "<Figure size 432x288 with 1 Axes>"
      ]
     },
     "metadata": {
      "needs_background": "light"
     },
     "output_type": "display_data"
    }
   ],
   "source": [
    "plt.scatter(X2[:, 0], X2[:, 1])"
   ]
  },
  {
   "cell_type": "code",
   "execution_count": 32,
   "metadata": {},
   "outputs": [
    {
     "data": {
      "text/plain": [
       "8.881784197001253e-17"
      ]
     },
     "execution_count": 32,
     "metadata": {},
     "output_type": "execute_result"
    }
   ],
   "source": [
    "np.mean(X2[:, 0])"
   ]
  },
  {
   "cell_type": "code",
   "execution_count": 33,
   "metadata": {},
   "outputs": [
    {
     "data": {
      "text/plain": [
       "1.0"
      ]
     },
     "execution_count": 33,
     "metadata": {},
     "output_type": "execute_result"
    }
   ],
   "source": [
    "np.std(X2[:, 0])"
   ]
  },
  {
   "cell_type": "code",
   "execution_count": 34,
   "metadata": {
    "scrolled": true
   },
   "outputs": [
    {
     "data": {
      "text/plain": [
       "-3.2751579226442116e-17"
      ]
     },
     "execution_count": 34,
     "metadata": {},
     "output_type": "execute_result"
    }
   ],
   "source": [
    "np.mean(X2[:, 1])"
   ]
  },
  {
   "cell_type": "code",
   "execution_count": 35,
   "metadata": {},
   "outputs": [
    {
     "data": {
      "text/plain": [
       "1.0"
      ]
     },
     "execution_count": 35,
     "metadata": {},
     "output_type": "execute_result"
    }
   ],
   "source": [
    "np.std(X2[:, 1])"
   ]
  },
  {
   "cell_type": "code",
   "execution_count": null,
   "metadata": {},
   "outputs": [],
   "source": []
  }
 ],
 "metadata": {
  "kernelspec": {
   "display_name": "Python 3",
   "language": "python",
   "name": "python3"
  },
  "language_info": {
   "codemirror_mode": {
    "name": "ipython",
    "version": 3
   },
   "file_extension": ".py",
   "mimetype": "text/x-python",
   "name": "python",
   "nbconvert_exporter": "python",
   "pygments_lexer": "ipython3",
   "version": "3.7.0"
  }
 },
 "nbformat": 4,
 "nbformat_minor": 2
}
